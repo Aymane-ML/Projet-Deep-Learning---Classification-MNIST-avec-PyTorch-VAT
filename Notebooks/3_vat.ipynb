{
 "cells": [
  {
   "cell_type": "markdown",
   "metadata": {},
   "source": [
    "# 3.1 Imports"
   ]
  },
  {
   "cell_type": "code",
   "execution_count": 14,
   "metadata": {},
   "outputs": [
    {
     "name": "stdout",
     "output_type": "stream",
     "text": [
      "Using device: cpu\n"
     ]
    }
   ],
   "source": [
    "import torch\n",
    "import torch.optim as optim\n",
    "import mlflow\n",
    "import mlflow.pytorch\n",
    "import sys\n",
    "sys.path.append(\"../src\")\n",
    "from data_utils import load_mnist_data\n",
    "from models import PretrainedMobileNetForMNIST\n",
    "from evaluation import evaluate, evaluate_metrics, visualize_errors\n",
    "from training import train\n",
    "device = torch.device(\"cuda\" if torch.cuda.is_available() else \"cpu\")\n",
    "print(f\"Using device: {device}\")\n"
   ]
  },
  {
   "cell_type": "markdown",
   "metadata": {},
   "source": [
    "# 3.2 Chargement des données"
   ]
  },
  {
   "cell_type": "code",
   "execution_count": 2,
   "metadata": {},
   "outputs": [],
   "source": [
    "data_dir = \"./data\"\n",
    "labeled_loader, unlabeled_loader, test_loader = load_mnist_data(data_dir, labeled_fraction=0.1, batch_size=64)\n"
   ]
  },
  {
   "cell_type": "markdown",
   "metadata": {},
   "source": [
    "# 3.3 Initialiser le modèle MobileNet adapté MNIST et envoyer sur device"
   ]
  },
  {
   "cell_type": "code",
   "execution_count": 3,
   "metadata": {},
   "outputs": [
    {
     "name": "stderr",
     "output_type": "stream",
     "text": [
      "/opt/anaconda3/lib/python3.11/site-packages/torchvision/models/_utils.py:208: UserWarning: The parameter 'pretrained' is deprecated since 0.13 and may be removed in the future, please use 'weights' instead.\n",
      "  warnings.warn(\n",
      "/opt/anaconda3/lib/python3.11/site-packages/torchvision/models/_utils.py:223: UserWarning: Arguments other than a weight enum or `None` for 'weights' are deprecated since 0.13 and may be removed in the future. The current behavior is equivalent to passing `weights=MobileNet_V2_Weights.IMAGENET1K_V1`. You can also use `weights=MobileNet_V2_Weights.DEFAULT` to get the most up-to-date weights.\n",
      "  warnings.warn(msg)\n"
     ]
    }
   ],
   "source": [
    "model=PretrainedMobileNetForMNIST().to(device)"
   ]
  },
  {
   "cell_type": "markdown",
   "metadata": {},
   "source": [
    "# Paramètres d'entraînement"
   ]
  },
  {
   "cell_type": "code",
   "execution_count": 4,
   "metadata": {},
   "outputs": [],
   "source": [
    "alpha = 1.0\n",
    "epochs = 5\n",
    "learning_rate=0.1"
   ]
  },
  {
   "cell_type": "markdown",
   "metadata": {},
   "source": [
    "# Definir l'optimiseur"
   ]
  },
  {
   "cell_type": "code",
   "execution_count": 5,
   "metadata": {},
   "outputs": [],
   "source": [
    "optimizer = optim.Adam(model.parameters(), lr=1e-3)"
   ]
  },
  {
   "cell_type": "markdown",
   "metadata": {},
   "source": [
    "# MLflow Tracking"
   ]
  },
  {
   "cell_type": "code",
   "execution_count": 6,
   "metadata": {},
   "outputs": [
    {
     "data": {
      "text/plain": [
       "<Experiment: artifact_location='file:///Users/aymanemimoun/Documents/M2%20Data%20Science/S1/ML/Deep%20Learning/Deep-Learning-VAT/Notebooks/mlruns/689059323732445441', creation_time=1752236231985, experiment_id='689059323732445441', last_update_time=1752236231985, lifecycle_stage='active', name='MNIST-VAT-MobileNet', tags={}>"
      ]
     },
     "execution_count": 6,
     "metadata": {},
     "output_type": "execute_result"
    }
   ],
   "source": [
    "mlflow.set_experiment(\"MNIST-VAT-MobileNet\")  # Nom de l'expérience"
   ]
  },
  {
   "cell_type": "markdown",
   "metadata": {},
   "source": [
    "# Training"
   ]
  },
  {
   "cell_type": "code",
   "execution_count": 7,
   "metadata": {},
   "outputs": [
    {
     "name": "stdout",
     "output_type": "stream",
     "text": [
      "Époque 1/5, Perte totale: 62.1373\n",
      "Époque 2/5, Perte totale: 22.0900\n",
      "Époque 3/5, Perte totale: 16.8853\n",
      "Époque 4/5, Perte totale: 10.6271\n",
      "Époque 5/5, Perte totale: 8.9283\n"
     ]
    }
   ],
   "source": [
    "train(\n",
    "    model=model,\n",
    "    labeled_loader=labeled_loader,\n",
    "    unlabeled_loader=unlabeled_loader,\n",
    "    optimizer=optimizer,\n",
    "    alpha=alpha,\n",
    "    epochs=epochs,\n",
    "    device=device\n",
    ")"
   ]
  },
  {
   "cell_type": "markdown",
   "metadata": {},
   "source": [
    "# Évaluation du modèle sur le jeu de test"
   ]
  },
  {
   "cell_type": "code",
   "execution_count": 8,
   "metadata": {},
   "outputs": [
    {
     "name": "stdout",
     "output_type": "stream",
     "text": [
      "Précision sur les données de test : 96.50%\n"
     ]
    }
   ],
   "source": [
    "eval_vat=evaluate(model, test_loader)\n",
    "eval_vat"
   ]
  },
  {
   "cell_type": "code",
   "execution_count": 11,
   "metadata": {},
   "outputs": [
    {
     "name": "stdout",
     "output_type": "stream",
     "text": [
      "Matrice de Confusion :\n",
      " [[ 951    0    3    0    0    0   22    0    4    0]\n",
      " [   0 1124    1    4    0    0    1    4    1    0]\n",
      " [   3    5 1019    2    0    0    0    1    2    0]\n",
      " [   1    0    7  971    0   21    0    1    9    0]\n",
      " [   1    2    2    0  917    0    5   11    1   43]\n",
      " [   1    0    0    5    0  808    2    0   76    0]\n",
      " [   1    4    1    0    2    2  941    0    7    0]\n",
      " [   0    0    6   12    4    2    0  998    1    5]\n",
      " [   3    0    7    0    2    0    0    0  954    8]\n",
      " [   5    2    2   12    1    3    2    5   10  967]]\n",
      "\n",
      "Rapport de Classification :\n",
      "               precision    recall  f1-score   support\n",
      "\n",
      "           0     0.9845    0.9704    0.9774       980\n",
      "           1     0.9886    0.9903    0.9894      1135\n",
      "           2     0.9723    0.9874    0.9798      1032\n",
      "           3     0.9652    0.9614    0.9633      1010\n",
      "           4     0.9903    0.9338    0.9612       982\n",
      "           5     0.9665    0.9058    0.9352       892\n",
      "           6     0.9671    0.9823    0.9746       958\n",
      "           7     0.9784    0.9708    0.9746      1028\n",
      "           8     0.8958    0.9795    0.9358       974\n",
      "           9     0.9453    0.9584    0.9518      1009\n",
      "\n",
      "    accuracy                         0.9650     10000\n",
      "   macro avg     0.9654    0.9640    0.9643     10000\n",
      "weighted avg     0.9658    0.9650    0.9650     10000\n",
      "\n"
     ]
    },
    {
     "data": {
      "text/plain": [
       "array([[ 951,    0,    3,    0,    0,    0,   22,    0,    4,    0],\n",
       "       [   0, 1124,    1,    4,    0,    0,    1,    4,    1,    0],\n",
       "       [   3,    5, 1019,    2,    0,    0,    0,    1,    2,    0],\n",
       "       [   1,    0,    7,  971,    0,   21,    0,    1,    9,    0],\n",
       "       [   1,    2,    2,    0,  917,    0,    5,   11,    1,   43],\n",
       "       [   1,    0,    0,    5,    0,  808,    2,    0,   76,    0],\n",
       "       [   1,    4,    1,    0,    2,    2,  941,    0,    7,    0],\n",
       "       [   0,    0,    6,   12,    4,    2,    0,  998,    1,    5],\n",
       "       [   3,    0,    7,    0,    2,    0,    0,    0,  954,    8],\n",
       "       [   5,    2,    2,   12,    1,    3,    2,    5,   10,  967]])"
      ]
     },
     "execution_count": 11,
     "metadata": {},
     "output_type": "execute_result"
    }
   ],
   "source": [
    "conf_matrix, class_report=evaluate_metrics(model, test_loader)\n",
    "conf_matrix"
   ]
  },
  {
   "cell_type": "markdown",
   "metadata": {},
   "source": [
    "# Visualisation des erreurs"
   ]
  },
  {
   "cell_type": "code",
   "execution_count": 15,
   "metadata": {},
   "outputs": [
    {
     "data": {
      "image/png": "[encoded data removed]",
      "text/plain": [
       "<Figure size 1000x500 with 10 Axes>"
      ]
     },
     "metadata": {},
     "output_type": "display_data"
    }
   ],
   "source": [
    "visualize_errors(model, test_loader)"
   ]
  }
 ],
 "metadata": {
  "kernelspec": {
   "display_name": "base",
   "language": "python",
   "name": "python3"
  },
  "language_info": {
   "codemirror_mode": {
    "name": "ipython",
    "version": 3
   },
   "file_extension": ".py",
   "mimetype": "text/x-python",
   "name": "python",
   "nbconvert_exporter": "python",
   "pygments_lexer": "ipython3",
   "version": "3.11.7"
  }
 },
 "nbformat": 4,
 "nbformat_minor": 2
}
